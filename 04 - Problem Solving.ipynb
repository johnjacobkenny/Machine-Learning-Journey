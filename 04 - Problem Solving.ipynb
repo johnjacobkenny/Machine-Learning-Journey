{
 "cells": [
  {
   "cell_type": "markdown",
   "metadata": {},
   "source": [
    "# Time complexity and problem solving"
   ]
  },
  {
   "cell_type": "markdown",
   "metadata": {},
   "source": [
    "## To implement a simple search"
   ]
  },
  {
   "cell_type": "code",
   "execution_count": 60,
   "metadata": {},
   "outputs": [],
   "source": [
    "arr = [1, 4, 5, 7, 3, 6, 8] * 10000000"
   ]
  },
  {
   "cell_type": "code",
   "execution_count": 24,
   "metadata": {},
   "outputs": [],
   "source": [
    "import random\n",
    "from time import time"
   ]
  },
  {
   "cell_type": "code",
   "execution_count": 8,
   "metadata": {},
   "outputs": [],
   "source": [
    "# shuffle the list in-place\n",
    "random.shuffle(arr)"
   ]
  },
  {
   "cell_type": "code",
   "execution_count": 43,
   "metadata": {},
   "outputs": [],
   "source": [
    "def isXinArray(arr, X):\n",
    "    start = time()\n",
    "    for item in arr:\n",
    "        if item == X:\n",
    "            print(time() - start)\n",
    "            return True\n",
    "    print(time() - start)\n",
    "    return False"
   ]
  },
  {
   "cell_type": "code",
   "execution_count": 35,
   "metadata": {},
   "outputs": [
    {
     "name": "stdout",
     "output_type": "stream",
     "text": [
      "7.152557373046875e-07\n"
     ]
    },
    {
     "data": {
      "text/plain": [
       "True"
      ]
     },
     "execution_count": 35,
     "metadata": {},
     "output_type": "execute_result"
    }
   ],
   "source": [
    "isXinArray(arr, 5)"
   ]
  },
  {
   "cell_type": "code",
   "execution_count": 62,
   "metadata": {},
   "outputs": [
    {
     "name": "stdout",
     "output_type": "stream",
     "text": [
      "1.8011558055877686\n"
     ]
    },
    {
     "data": {
      "text/plain": [
       "False"
      ]
     },
     "execution_count": 62,
     "metadata": {},
     "output_type": "execute_result"
    }
   ],
   "source": [
    "isXinArray(arr, 10)"
   ]
  },
  {
   "cell_type": "code",
   "execution_count": 13,
   "metadata": {},
   "outputs": [
    {
     "data": {
      "text/plain": [
       "True"
      ]
     },
     "execution_count": 13,
     "metadata": {},
     "output_type": "execute_result"
    }
   ],
   "source": [
    "isXinArray(arr, 8)"
   ]
  },
  {
   "cell_type": "markdown",
   "metadata": {},
   "source": [
    "## To implement a binary search"
   ]
  },
  {
   "cell_type": "code",
   "execution_count": 70,
   "metadata": {},
   "outputs": [
    {
     "data": {
      "text/plain": [
       "1"
      ]
     },
     "execution_count": 70,
     "metadata": {},
     "output_type": "execute_result"
    }
   ],
   "source": [
    "random.randrange(0, 20)"
   ]
  },
  {
   "cell_type": "code",
   "execution_count": 72,
   "metadata": {},
   "outputs": [],
   "source": [
    "arr = [random.randrange(0, 20) for i in range(20)]"
   ]
  },
  {
   "cell_type": "code",
   "execution_count": 114,
   "metadata": {},
   "outputs": [
    {
     "data": {
      "text/plain": [
       "[0, 1, 2, 3, 4, 5, 5, 6, 6, 10, 10, 10, 11, 12, 13, 13, 15, 15, 16, 19]"
      ]
     },
     "execution_count": 114,
     "metadata": {},
     "output_type": "execute_result"
    }
   ],
   "source": [
    "arr = sorted(arr)\n",
    "arr"
   ]
  },
  {
   "cell_type": "code",
   "execution_count": 126,
   "metadata": {},
   "outputs": [],
   "source": [
    "def binary_searcher(arr, l, r, x):\n",
    "    print(arr, l, r, x)\n",
    "    if r >= l:\n",
    "        mid = (r + l) // 2\n",
    "        if arr[mid] == x:\n",
    "            return True\n",
    "        elif arr[mid] > x:\n",
    "            binary_searcher(arr, l, mid-1, x);\n",
    "        else:\n",
    "            binary_searcher(arr, mid+1, r, x);\n",
    "    else:\n",
    "        return False\n",
    "\n",
    "def binary_search(arr, x):\n",
    "    return binary_searcher(arr, 0, len(arr), x)"
   ]
  },
  {
   "cell_type": "code",
   "execution_count": 125,
   "metadata": {},
   "outputs": [
    {
     "name": "stdout",
     "output_type": "stream",
     "text": [
      "[0, 1, 2, 3, 4, 5, 5, 6, 6, 10, 10, 10, 11, 12, 13, 13, 15, 15, 16, 19] 0 20 0\n",
      "[0, 1, 2, 3, 4, 5, 5, 6, 6, 10, 10, 10, 11, 12, 13, 13, 15, 15, 16, 19] 0 9 0\n",
      "[0, 1, 2, 3, 4, 5, 5, 6, 6, 10, 10, 10, 11, 12, 13, 13, 15, 15, 16, 19] 0 3 0\n",
      "[0, 1, 2, 3, 4, 5, 5, 6, 6, 10, 10, 10, 11, 12, 13, 13, 15, 15, 16, 19] 0 0 0\n"
     ]
    }
   ],
   "source": [
    "binary_searcher(arr, 0, len(arr), 0)"
   ]
  },
  {
   "cell_type": "code",
   "execution_count": 115,
   "metadata": {},
   "outputs": [
    {
     "data": {
      "text/plain": [
       "0"
      ]
     },
     "execution_count": 115,
     "metadata": {},
     "output_type": "execute_result"
    }
   ],
   "source": [
    "arr[0]"
   ]
  }
 ],
 "metadata": {
  "kernelspec": {
   "display_name": "Python 3",
   "language": "python",
   "name": "python3"
  },
  "language_info": {
   "codemirror_mode": {
    "name": "ipython",
    "version": 3
   },
   "file_extension": ".py",
   "mimetype": "text/x-python",
   "name": "python",
   "nbconvert_exporter": "python",
   "pygments_lexer": "ipython3",
   "version": "3.7.3"
  }
 },
 "nbformat": 4,
 "nbformat_minor": 2
}
