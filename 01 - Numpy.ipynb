{
  "nbformat": 4,
  "nbformat_minor": 0,
  "metadata": {
    "colab": {
      "name": "01 - Numpy.ipynb",
      "version": "0.3.2",
      "provenance": []
    },
    "language_info": {
      "codemirror_mode": {
        "name": "ipython",
        "version": 3
      },
      "file_extension": ".py",
      "mimetype": "text/x-python",
      "name": "python",
      "nbconvert_exporter": "python",
      "pygments_lexer": "ipython3",
      "version": "3.7.3"
    },
    "kernelspec": {
      "display_name": "Python 3",
      "language": "python",
      "name": "python3"
    }
  },
  "cells": [
    {
      "cell_type": "markdown",
      "metadata": {
        "id": "62n36YEXepbr",
        "colab_type": "text"
      },
      "source": [
        "# Numpy\n",
        "\n",
        "- provides more functionality to work with multi dimensional arrays\n",
        "- much more convenient in terms of helper functions as well as syntax"
      ]
    },
    {
      "cell_type": "code",
      "metadata": {
        "id": "WzSravDYepbt",
        "colab_type": "code",
        "colab": {}
      },
      "source": [
        "import numpy as np"
      ],
      "execution_count": 0,
      "outputs": []
    },
    {
      "cell_type": "markdown",
      "metadata": {
        "id": "PwBnlagYepbx",
        "colab_type": "text"
      },
      "source": [
        "The simplest way to get started with Numpy is to create an array. This can be done by invoking the array method in numpy and passing it an argument. This may be a list or a tuple or a set"
      ]
    },
    {
      "cell_type": "code",
      "metadata": {
        "id": "vG052fu5epby",
        "colab_type": "code",
        "colab": {},
        "outputId": "5d2878f1-ed0d-4f92-cc0c-c3e0926c3599"
      },
      "source": [
        "np.array([1,2,3,4])\n"
      ],
      "execution_count": 0,
      "outputs": [
        {
          "output_type": "execute_result",
          "data": {
            "text/plain": [
              "array([1, 2, 3, 4])"
            ]
          },
          "metadata": {
            "tags": []
          },
          "execution_count": 7
        }
      ]
    },
    {
      "cell_type": "code",
      "metadata": {
        "id": "qX0_ILSeepb3",
        "colab_type": "code",
        "colab": {},
        "outputId": "7fc130f5-608a-4c86-cbc5-cbaf0893fa42"
      },
      "source": [
        "np.array((1,2,3,4))"
      ],
      "execution_count": 0,
      "outputs": [
        {
          "output_type": "execute_result",
          "data": {
            "text/plain": [
              "array([1, 2, 3, 4])"
            ]
          },
          "metadata": {
            "tags": []
          },
          "execution_count": 9
        }
      ]
    },
    {
      "cell_type": "code",
      "metadata": {
        "id": "5_iBiWbcepb7",
        "colab_type": "code",
        "colab": {},
        "outputId": "4c601acd-a860-4fae-86fc-a52d6d1b6222"
      },
      "source": [
        "np.array(set([1,2,3,4]))"
      ],
      "execution_count": 0,
      "outputs": [
        {
          "output_type": "execute_result",
          "data": {
            "text/plain": [
              "array({1, 2, 3, 4}, dtype=object)"
            ]
          },
          "metadata": {
            "tags": []
          },
          "execution_count": 14
        }
      ]
    },
    {
      "cell_type": "code",
      "metadata": {
        "id": "VVJuSDrQepb-",
        "colab_type": "code",
        "colab": {},
        "outputId": "5948458c-53dc-4fa3-cdc5-817cd508c8be"
      },
      "source": [
        "set([1,2,3, 4, 4])"
      ],
      "execution_count": 0,
      "outputs": [
        {
          "output_type": "execute_result",
          "data": {
            "text/plain": [
              "{1, 2, 3, 4}"
            ]
          },
          "metadata": {
            "tags": []
          },
          "execution_count": 13
        }
      ]
    },
    {
      "cell_type": "markdown",
      "metadata": {
        "id": "U2RXVLu6epcD",
        "colab_type": "text"
      },
      "source": [
        "To create an array from 0 to n-1 we use the range function in normal python"
      ]
    },
    {
      "cell_type": "code",
      "metadata": {
        "id": "ig66MaLVepcG",
        "colab_type": "code",
        "colab": {
          "base_uri": "https://localhost:8080/",
          "height": 34
        },
        "outputId": "b136c953-b163-4f48-cdc0-0a216a7c9b31"
      },
      "source": [
        "list(range(10))"
      ],
      "execution_count": 1,
      "outputs": [
        {
          "output_type": "execute_result",
          "data": {
            "text/plain": [
              "[0, 1, 2, 3, 4, 5, 6, 7, 8, 9]"
            ]
          },
          "metadata": {
            "tags": []
          },
          "execution_count": 1
        }
      ]
    },
    {
      "cell_type": "markdown",
      "metadata": {
        "id": "WXcNw56ve-LC",
        "colab_type": "text"
      },
      "source": [
        "However in numpy we use the `np.arange` function"
      ]
    },
    {
      "cell_type": "code",
      "metadata": {
        "id": "kzUzhc7fepcK",
        "colab_type": "code",
        "colab": {},
        "outputId": "c83b5b21-58f8-4db6-8621-53b03e5ca01c"
      },
      "source": [
        "np.arange(10)"
      ],
      "execution_count": 0,
      "outputs": [
        {
          "output_type": "execute_result",
          "data": {
            "text/plain": [
              "array([0, 1, 2, 3, 4, 5, 6, 7, 8, 9])"
            ]
          },
          "metadata": {
            "tags": []
          },
          "execution_count": 19
        }
      ]
    }
  ]
}